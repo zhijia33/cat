{
 "cells": [
  {
   "cell_type": "code",
   "execution_count": 3,
   "id": "94edf06b-e1d8-4ed3-8f8a-09cda4395ba2",
   "metadata": {},
   "outputs": [],
   "source": [
    "from PIL import Image\n",
    "file_path = r'D:\\1234\\cat.webp'"
   ]
  },
  {
   "cell_type": "code",
   "execution_count": 4,
   "id": "7244a031-e0d9-4478-a416-423b9fe1dc57",
   "metadata": {},
   "outputs": [],
   "source": [
    "pic = Image.open(file_path)"
   ]
  },
  {
   "cell_type": "code",
   "execution_count": 5,
   "id": "fcdae7dc-8e56-4e7b-ad3a-11ad35c659df",
   "metadata": {},
   "outputs": [
    {
     "name": "stdout",
     "output_type": "stream",
     "text": [
      "圖片寬度: 640\n",
      "圖片高度: 400\n"
     ]
    }
   ],
   "source": [
    "print('圖片寬度:', pic.width)\n",
    "print('圖片高度:', pic.height)"
   ]
  },
  {
   "cell_type": "code",
   "execution_count": 6,
   "id": "48993461-df05-4956-818e-14d9e086701b",
   "metadata": {},
   "outputs": [
    {
     "name": "stdout",
     "output_type": "stream",
     "text": [
      "圖片檔案格式: WEBP\n",
      "圖片色彩格式: RGB\n",
      "圖片大小: (640, 400)\n"
     ]
    }
   ],
   "source": [
    "print('圖片檔案格式:',pic.format)\n",
    "print('圖片色彩格式:',pic.mode)\n",
    "print('圖片大小:',pic.size)"
   ]
  },
  {
   "cell_type": "code",
   "execution_count": 14,
   "id": "cee18902-d395-4643-8d77-35700b2807eb",
   "metadata": {},
   "outputs": [],
   "source": [
    "pic.show()"
   ]
  },
  {
   "cell_type": "code",
   "execution_count": 33,
   "id": "9d72c8d8-138b-4ef7-891e-df9ad7ffab76",
   "metadata": {},
   "outputs": [
    {
     "name": "stdout",
     "output_type": "stream",
     "text": [
      "原本的圖片色彩格式: RGB\n",
      "轉換黑白後的圖片色彩模式: 1\n"
     ]
    }
   ],
   "source": [
    "print('原本的圖片色彩格式:',pic.mode)\n",
    "new_pic=pic.convert('1')\n",
    "new_pic.show()\n",
    "print('轉換黑白後的圖片色彩模式:',new_pic.mode)"
   ]
  },
  {
   "cell_type": "code",
   "execution_count": 21,
   "id": "4c448b70-5144-4870-aad1-3e36e2d980d0",
   "metadata": {},
   "outputs": [],
   "source": [
    "new_pic=pic.rotate(30)\n",
    "new_pic.show()"
   ]
  },
  {
   "cell_type": "code",
   "execution_count": 19,
   "id": "9bb82aab-aeb8-41d6-8fc5-7852fe5e500f",
   "metadata": {},
   "outputs": [],
   "source": [
    "new_pic=pic.rotate(-30)\n",
    "new_pic.show()"
   ]
  },
  {
   "cell_type": "code",
   "execution_count": 34,
   "id": "709c0deb-f378-451f-99c1-ef226a707955",
   "metadata": {},
   "outputs": [],
   "source": [
    "from PIL import Image\n",
    "from PIL import ImageFilter\n",
    "file_path = r'D:\\1234\\cat.webp'\n"
   ]
  },
  {
   "cell_type": "code",
   "execution_count": 35,
   "id": "e288b3fa-e4f4-44eb-a6e4-a2d1bd705613",
   "metadata": {},
   "outputs": [],
   "source": [
    "from PIL import Image, ImageFilter\n",
    "save_path = r'D:\\5678\\new_cat.webp'\n",
    "pic = Image.open(file_path)\n",
    "new_pic.show()"
   ]
  },
  {
   "cell_type": "code",
   "execution_count": 24,
   "id": "09867f0c-f658-4471-8d54-33efc57679df",
   "metadata": {},
   "outputs": [
    {
     "name": "stdout",
     "output_type": "stream",
     "text": [
      "原本圖片寬度: 640\n",
      "原本圖片高度: 400\n",
      "縮放後圖形大小: (400, 400)\n"
     ]
    }
   ],
   "source": [
    "from PIL import Image, ImageFilter\n",
    "file_path = r'D:\\1234\\cat.webp'\n",
    "pic = Image.open(file_path)\n",
    "print('原本圖片寬度:', pic.width)\n",
    "print('原本圖片高度:', pic.height)\n",
    "new_pic = pic.resize((400, 400))\n",
    "print('縮放後圖形大小:', new_pic.size)\n",
    "save_path = r'D:\\5678\\new_cat.webp'\n",
    "import os\n",
    "os.makedirs(os.path.dirname(save_path), exist_ok=True)\n",
    "new_pic.save(save_path)\n",
    "new_pic.show()"
   ]
  },
  {
   "cell_type": "code",
   "execution_count": 25,
   "id": "8bc8416c-40ee-4fc8-9ef1-9fc9caaa1174",
   "metadata": {},
   "outputs": [],
   "source": [
    "from PIL import Image, ImageFilter, ImageDraw\n",
    "file_path = r'D:\\1234\\cat.webp'"
   ]
  },
  {
   "cell_type": "code",
   "execution_count": 26,
   "id": "db80b694-5c04-499e-b2a4-7afad7791fcb",
   "metadata": {},
   "outputs": [],
   "source": [
    "from PIL import Image, ImageDraw, ImageFont\n",
    "pic = Image.open(r'D:\\1234\\cat.webp')\n",
    "t_font = ImageFont.truetype(\"arial.ttf\", 30)  \n",
    "\n",
    "draw = ImageDraw.Draw(pic)\n",
    "draw.text((20, 30), 'TOKYO', font=t_font, fill=(255, 0, 0, 255))\n",
    "draw.text((20, 100), 'CAT', font=t_font, fill=(0,255, 0, 255))\n",
    "pic.show()"
   ]
  },
  {
   "cell_type": "code",
   "execution_count": null,
   "id": "d1f79573-27f4-4b40-9b60-b75b573f3673",
   "metadata": {},
   "outputs": [],
   "source": []
  }
 ],
 "metadata": {
  "kernelspec": {
   "display_name": "Python 3 (ipykernel)",
   "language": "python",
   "name": "python3"
  },
  "language_info": {
   "codemirror_mode": {
    "name": "ipython",
    "version": 3
   },
   "file_extension": ".py",
   "mimetype": "text/x-python",
   "name": "python",
   "nbconvert_exporter": "python",
   "pygments_lexer": "ipython3",
   "version": "3.11.7"
  }
 },
 "nbformat": 4,
 "nbformat_minor": 5
}
